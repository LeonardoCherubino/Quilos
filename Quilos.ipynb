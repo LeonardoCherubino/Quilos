{
  "nbformat": 4,
  "nbformat_minor": 0,
  "metadata": {
    "colab": {
      "name": "Quilos.ipynb",
      "provenance": [],
      "collapsed_sections": [],
      "authorship_tag": "ABX9TyNEHvwwDQm1Rpb/FF/ol2kj",
      "include_colab_link": true
    },
    "kernelspec": {
      "name": "python3",
      "display_name": "Python 3"
    },
    "language_info": {
      "name": "python"
    }
  },
  "cells": [
    {
      "cell_type": "markdown",
      "metadata": {
        "id": "view-in-github",
        "colab_type": "text"
      },
      "source": [
        "<a href=\"https://colab.research.google.com/github/LeonardoCherubino/Quilos/blob/main/Quilos.ipynb\" target=\"_parent\"><img src=\"https://colab.research.google.com/assets/colab-badge.svg\" alt=\"Open In Colab\"/></a>"
      ]
    },
    {
      "cell_type": "code",
      "execution_count": null,
      "metadata": {
        "id": "Gj1HHe56ElYU"
      },
      "outputs": [],
      "source": [
        ""
      ]
    },
    {
      "cell_type": "markdown",
      "source": [
        "Tendo como dados de entrada a altura de uma pessoa, construa um algoritmo que calcule seu peso ideal, usando a seguinte fórmula:\n",
        "$P = 72,7h - 58$\n",
        "\n"
      ],
      "metadata": {
        "id": "YCliL2WmFMBC"
      }
    },
    {
      "cell_type": "code",
      "source": [
        "h = float(input('Entre com a sua altura: '))\n",
        "p = 72.7 * h - 58\n",
        "print('Seu peso ideal é {} quilos'.format(p))"
      ],
      "metadata": {
        "colab": {
          "base_uri": "https://localhost:8080/"
        },
        "id": "OQX8BO17FOvX",
        "outputId": "43f6768e-76c5-48e1-a7f6-5bef536b9a2e"
      },
      "execution_count": 3,
      "outputs": [
        {
          "output_type": "stream",
          "name": "stdout",
          "text": [
            "Entre com a sua altura: 1.72\n",
            "Seu peso ideal é 67.044 quilos\n"
          ]
        }
      ]
    }
  ]
}